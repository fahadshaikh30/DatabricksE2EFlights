{
 "cells": [
  {
   "cell_type": "code",
   "execution_count": 0,
   "metadata": {
    "application/vnd.databricks.v1+cell": {
     "cellMetadata": {
      "byteLimit": 2048000,
      "rowLimit": 10000
     },
     "inputWidgets": {},
     "nuid": "dfcb2f81-25a8-4f0a-98c6-dfb8423d0b47",
     "showTitle": false,
     "tableResultSettingsMap": {},
     "title": ""
    }
   },
   "outputs": [],
   "source": [
    "from pyspark.sql.functions import *\n",
    "from pyspark.sql.types import *"
   ]
  },
  {
   "cell_type": "code",
   "execution_count": 0,
   "metadata": {
    "application/vnd.databricks.v1+cell": {
     "cellMetadata": {
      "byteLimit": 2048000,
      "implicitDf": true,
      "rowLimit": 10000
     },
     "inputWidgets": {},
     "nuid": "ec6e0c66-c3ac-4675-b9a8-6774af1885ea",
     "showTitle": false,
     "tableResultSettingsMap": {
      "0": {
       "dataGridStateBlob": "{\"version\":1,\"tableState\":{\"columnPinning\":{\"left\":[\"#row_number#\"],\"right\":[]},\"columnSizing\":{},\"columnVisibility\":{}},\"settings\":{\"columns\":{}},\"syncTimestamp\":1755258856550}",
       "filterBlob": null,
       "queryPlanFiltersBlob": null,
       "tableResultIndex": 0
      }
     },
     "title": ""
    }
   },
   "outputs": [],
   "source": [
    "%sql\n",
    "select * from workspace.silver.silver_passengers where passenger_id = 'P0049'"
   ]
  },
  {
   "cell_type": "markdown",
   "metadata": {
    "application/vnd.databricks.v1+cell": {
     "cellMetadata": {
      "byteLimit": 2048000,
      "rowLimit": 10000
     },
     "inputWidgets": {},
     "nuid": "474fa423-3c4e-4df7-8673-7c60a7ce3e3c",
     "showTitle": false,
     "tableResultSettingsMap": {},
     "title": ""
    }
   },
   "source": [
    "### **Parameters**"
   ]
  },
  {
   "cell_type": "code",
   "execution_count": 0,
   "metadata": {
    "application/vnd.databricks.v1+cell": {
     "cellMetadata": {
      "byteLimit": 2048000,
      "rowLimit": 10000
     },
     "inputWidgets": {},
     "nuid": "e668d5f0-cfc9-4d9f-8493-d14f5be13c7e",
     "showTitle": false,
     "tableResultSettingsMap": {},
     "title": ""
    }
   },
   "outputs": [],
   "source": [
    "# KEY COLUMNS\n",
    "dbutils.widgets.text(\"keycols\",\"\")\n",
    "\n",
    "# CDC COLUMN\n",
    "dbutils.widgets.text(\"cdccol\",\"\")\n",
    "\n",
    "# BACK-DATED REFRESH\n",
    "dbutils.widgets.text(\"backdated_refresh\",\"\")\n",
    "\n",
    "# Source Object\n",
    "dbutils.widgets.text(\"source_object\",\"\")\n",
    "\n",
    "# Source Schema\n",
    "dbutils.widgets.text(\"source_schema\",\"\")"
   ]
  },
  {
   "cell_type": "markdown",
   "metadata": {
    "application/vnd.databricks.v1+cell": {
     "cellMetadata": {
      "byteLimit": 2048000,
      "rowLimit": 10000
     },
     "inputWidgets": {},
     "nuid": "26ce732d-5af0-483a-ada7-b7629ae59778",
     "showTitle": false,
     "tableResultSettingsMap": {},
     "title": ""
    }
   },
   "source": [
    "### **Fetching Parameters & Creating Variables**"
   ]
  },
  {
   "cell_type": "code",
   "execution_count": 0,
   "metadata": {
    "application/vnd.databricks.v1+cell": {
     "cellMetadata": {
      "byteLimit": 2048000,
      "rowLimit": 10000
     },
     "inputWidgets": {},
     "nuid": "6486b65b-5ce8-4ebe-a317-f609d483d8d7",
     "showTitle": false,
     "tableResultSettingsMap": {},
     "title": ""
    }
   },
   "outputs": [],
   "source": [
    "# Catalog Name\n",
    "catalog = \"workspace\"\n",
    "\n",
    "# Key Cols List\n",
    "key_cols_list = eval(dbutils.widgets.get(\"keycols\"))\n",
    "\n",
    "# CDC Column\n",
    "cdc_col = dbutils.widgets.get(\"cdccol\")\n",
    "\n",
    "# Backdated Refresh\n",
    "backdated_refresh = dbutils.widgets.get(\"backdated_refresh\")\n",
    "\n",
    "# Source Object\n",
    "source_object = dbutils.widgets.get(\"source_object\")\n",
    "\n",
    "# Source Schema\n",
    "source_schema = dbutils.widgets.get(\"source_schema\")\n",
    "\n",
    "# Target Schema\n",
    "target_schema = \"gold\"\n",
    "\n",
    "# Target Object\n",
    "target_object = \"DimFlights\"\n",
    "\n",
    "# Surrogate Key\n",
    "surrogate_key = \"DimFlightsKey\""
   ]
  },
  {
   "cell_type": "code",
   "execution_count": 0,
   "metadata": {
    "application/vnd.databricks.v1+cell": {
     "cellMetadata": {
      "byteLimit": 2048000,
      "rowLimit": 10000
     },
     "inputWidgets": {},
     "nuid": "6a40dd59-326c-45f0-b6e5-814fafa2362b",
     "showTitle": false,
     "tableResultSettingsMap": {},
     "title": ""
    }
   },
   "outputs": [],
   "source": [
    "# # Catalog Name\n",
    "# catalog = \"workspace\"\n",
    "\n",
    "# # Key Cols List\n",
    "# key_cols_list = eval(dbutils.widgets.get(\"keycols\"))\n",
    "\n",
    "# # CDC Column\n",
    "# cdc_col = dbutils.widgets.get(\"cdccol\")\n",
    "\n",
    "# # Backdated Refresh\n",
    "# backdated_refresh = dbutils.widgets.get(\"backdated_refresh\")\n",
    "\n",
    "# # Source Object\n",
    "# source_object = dbutils.widgets.get(\"source_object\")\n",
    "\n",
    "# # Source Schema\n",
    "# source_schema = dbutils.widgets.get(\"source_schema\")\n",
    "\n",
    "# # Target Schema\n",
    "# target_schema = \"gold\"\n",
    "\n",
    "# # Target Object\n",
    "# target_object = \"DimAirports\"\n",
    "\n",
    "# # Surrogate Key\n",
    "# surrogate_key = \"DimAirportsKey\""
   ]
  },
  {
   "cell_type": "code",
   "execution_count": 0,
   "metadata": {
    "application/vnd.databricks.v1+cell": {
     "cellMetadata": {
      "byteLimit": 2048000,
      "rowLimit": 10000
     },
     "inputWidgets": {},
     "nuid": "c4e36c0d-84f2-416e-9113-39574cfbfeb7",
     "showTitle": false,
     "tableResultSettingsMap": {},
     "title": ""
    }
   },
   "outputs": [],
   "source": [
    "# # Catalog Name\n",
    "# catalog = \"workspace\"\n",
    "\n",
    "# # Key Cols List\n",
    "# key_cols_list = eval(dbutils.widgets.get(\"keycols\"))\n",
    "\n",
    "# # CDC Column\n",
    "# cdc_col = dbutils.widgets.get(\"cdccol\")\n",
    "\n",
    "# # Backdated Refresh\n",
    "# backdated_refresh = dbutils.widgets.get(\"backdated_refresh\")\n",
    "\n",
    "# # Source Object\n",
    "# source_object = dbutils.widgets.get(\"source_object\")\n",
    "\n",
    "# # Source Schema\n",
    "# source_schema = dbutils.widgets.get(\"source_schema\")\n",
    "\n",
    "# # Target Schema\n",
    "# target_schema = \"gold\"\n",
    "\n",
    "# # Target Object\n",
    "# target_object = \"DimPassengers\"\n",
    "\n",
    "# # Surrogate Key\n",
    "# surrogate_key = \"DimPassengersKey\""
   ]
  },
  {
   "cell_type": "markdown",
   "metadata": {
    "application/vnd.databricks.v1+cell": {
     "cellMetadata": {
      "byteLimit": 2048000,
      "rowLimit": 10000
     },
     "inputWidgets": {},
     "nuid": "2808f4b7-3beb-47a7-8287-58946741c349",
     "showTitle": false,
     "tableResultSettingsMap": {},
     "title": ""
    }
   },
   "source": [
    "## **INCREMENTAL DATA INGESTTION**"
   ]
  },
  {
   "cell_type": "markdown",
   "metadata": {
    "application/vnd.databricks.v1+cell": {
     "cellMetadata": {
      "byteLimit": 2048000,
      "rowLimit": 10000
     },
     "inputWidgets": {},
     "nuid": "14e0636d-91dc-43e8-b653-b5dc65d83d88",
     "showTitle": false,
     "tableResultSettingsMap": {},
     "title": ""
    }
   },
   "source": [
    "#### **Last Load Date**"
   ]
  },
  {
   "cell_type": "code",
   "execution_count": 0,
   "metadata": {
    "application/vnd.databricks.v1+cell": {
     "cellMetadata": {
      "byteLimit": 2048000,
      "rowLimit": 10000
     },
     "inputWidgets": {},
     "nuid": "eee6ecd8-0c16-488c-a08b-35603f46c320",
     "showTitle": false,
     "tableResultSettingsMap": {},
     "title": ""
    }
   },
   "outputs": [],
   "source": [
    "# No backdated refresh\n",
    "if len(backdated_refresh) == 0:\n",
    "\n",
    "    # If table exists in the destination, select max value of cdc column\n",
    "    if spark.catalog.tableExists(f\"{catalog}.{target_schema}.{target_object}\"):\n",
    "        last_load = spark.sql(f\"SELECT max({cdc_col}) FROM workspace.{target_schema}.{target_object}\").collect()[0][0]\n",
    "    \n",
    "    # If table does not exist in the destination\n",
    "    else:\n",
    "        last_load = \"1900-01-01 00:00:00\"\n",
    "\n",
    "# Yes Backdated refresh\n",
    "else:\n",
    "    last_load = backdated_refresh\n",
    "\n",
    "# Test the last load\n",
    "last_load"
   ]
  },
  {
   "cell_type": "code",
   "execution_count": 0,
   "metadata": {
    "application/vnd.databricks.v1+cell": {
     "cellMetadata": {
      "byteLimit": 2048000,
      "rowLimit": 10000
     },
     "inputWidgets": {},
     "nuid": "96ffe962-a939-42e6-b870-d0e51bdae221",
     "showTitle": false,
     "tableResultSettingsMap": {},
     "title": ""
    }
   },
   "outputs": [],
   "source": [
    "df_src = spark.sql(f\"SELECT * FROM {source_schema}.{source_object} WHERE {cdc_col} > '{last_load}'\")"
   ]
  },
  {
   "cell_type": "code",
   "execution_count": 0,
   "metadata": {
    "application/vnd.databricks.v1+cell": {
     "cellMetadata": {
      "byteLimit": 2048000,
      "rowLimit": 10000
     },
     "inputWidgets": {},
     "nuid": "fcaf013a-55da-4eb0-9e44-c5162c9e2158",
     "showTitle": false,
     "tableResultSettingsMap": {},
     "title": ""
    }
   },
   "outputs": [],
   "source": [
    "df_src.display()"
   ]
  },
  {
   "cell_type": "markdown",
   "metadata": {
    "application/vnd.databricks.v1+cell": {
     "cellMetadata": {
      "byteLimit": 2048000,
      "rowLimit": 10000
     },
     "inputWidgets": {},
     "nuid": "8856aadc-b1e4-4033-91b4-f4da5b429c0b",
     "showTitle": false,
     "tableResultSettingsMap": {},
     "title": ""
    }
   },
   "source": [
    "#### OLD vs NEW RECORDS "
   ]
  },
  {
   "cell_type": "code",
   "execution_count": 0,
   "metadata": {
    "application/vnd.databricks.v1+cell": {
     "cellMetadata": {
      "byteLimit": 2048000,
      "rowLimit": 10000
     },
     "inputWidgets": {},
     "nuid": "69c241d6-d098-4caf-bbfd-62accedc64de",
     "showTitle": false,
     "tableResultSettingsMap": {},
     "title": ""
    }
   },
   "outputs": [],
   "source": [
    "if spark.catalog.tableExists(f\"{catalog}.{target_schema}.{target_object}\"):\n",
    "\n",
    "    # Key Columns String - Incremental\n",
    "    key_cols_string_incremental = \", \".join(key_cols_list)\n",
    "    df_tgt = spark.sql(f\"select {key_cols_string_incremental}, {surrogate_key}, create_date, update_date from {catalog}.{target_schema}.{target_object}\")\n",
    "\n",
    "else:\n",
    "\n",
    "    # Key Columns String - Initial\n",
    "    key_cols_string_init = [f\"'' as {i}\" for i in key_cols_list]\n",
    "    key_cols_string_init = \", \".join(key_cols_string_init)\n",
    "\n",
    "    df_tgt = spark.sql(f\"\"\"\n",
    "                       select {key_cols_string_init}, CAST('0' AS INT) as {surrogate_key}, CAST('1900-01-01 00:00:00' AS TIMESTAMP) as create_date, \n",
    "                       CAST('1900-01-01 00:00:00' AS TIMESTAMP) as update_date where 1=0\"\"\")"
   ]
  },
  {
   "cell_type": "code",
   "execution_count": 0,
   "metadata": {
    "application/vnd.databricks.v1+cell": {
     "cellMetadata": {
      "byteLimit": 2048000,
      "rowLimit": 10000
     },
     "inputWidgets": {},
     "nuid": "2e172c21-2e18-49d3-9a03-b9738f855945",
     "showTitle": false,
     "tableResultSettingsMap": {
      "0": {
       "dataGridStateBlob": "{\"version\":1,\"tableState\":{\"columnPinning\":{\"left\":[\"#row_number#\"],\"right\":[]},\"columnSizing\":{},\"columnVisibility\":{}},\"settings\":{\"columns\":{}},\"syncTimestamp\":1753299311725}",
       "filterBlob": null,
       "queryPlanFiltersBlob": null,
       "tableResultIndex": 0
      }
     },
     "title": ""
    }
   },
   "outputs": [],
   "source": [
    "df_tgt.display()\n"
   ]
  },
  {
   "cell_type": "code",
   "execution_count": 0,
   "metadata": {
    "application/vnd.databricks.v1+cell": {
     "cellMetadata": {
      "byteLimit": 2048000,
      "rowLimit": 10000
     },
     "inputWidgets": {},
     "nuid": "e58b64fa-67b5-4ff8-8ac6-12e67b588072",
     "showTitle": false,
     "tableResultSettingsMap": {},
     "title": ""
    }
   },
   "outputs": [],
   "source": [
    "join_condition = ' AND '.join([f\"src.{i} = tgt.{i}\" for i in key_cols_list]) "
   ]
  },
  {
   "cell_type": "code",
   "execution_count": 0,
   "metadata": {
    "application/vnd.databricks.v1+cell": {
     "cellMetadata": {
      "byteLimit": 2048000,
      "rowLimit": 10000
     },
     "inputWidgets": {},
     "nuid": "f3ac875f-8f63-4e1c-85da-40e7fa9a22ba",
     "showTitle": false,
     "tableResultSettingsMap": {},
     "title": ""
    }
   },
   "outputs": [],
   "source": [
    "df_src.createOrReplaceTempView(\"src\")\n",
    "df_tgt.createOrReplaceTempView(\"tgt\")\n",
    "\n",
    "sql_query = f\"\"\"\n",
    "    select  src.*,\n",
    "            tgt.{surrogate_key},\n",
    "            tgt.create_date,\n",
    "            tgt.update_date\n",
    "    from src\n",
    "    left join tgt\n",
    "    on {join_condition}\n",
    "\"\"\"\n",
    "\n",
    "df_join = spark.sql(sql_query)\n"
   ]
  },
  {
   "cell_type": "code",
   "execution_count": 0,
   "metadata": {
    "application/vnd.databricks.v1+cell": {
     "cellMetadata": {
      "byteLimit": 2048000,
      "rowLimit": 10000
     },
     "inputWidgets": {},
     "nuid": "9dc07cd0-f712-4863-8fc8-466327ee08db",
     "showTitle": false,
     "tableResultSettingsMap": {
      "0": {
       "dataGridStateBlob": "{\"version\":1,\"tableState\":{\"columnPinning\":{\"left\":[\"#row_number#\"],\"right\":[]},\"columnSizing\":{},\"columnVisibility\":{}},\"settings\":{\"columns\":{}},\"syncTimestamp\":1755264432923}",
       "filterBlob": null,
       "queryPlanFiltersBlob": null,
       "tableResultIndex": 0
      }
     },
     "title": ""
    }
   },
   "outputs": [],
   "source": [
    "df_join.display()\n"
   ]
  },
  {
   "cell_type": "code",
   "execution_count": 0,
   "metadata": {
    "application/vnd.databricks.v1+cell": {
     "cellMetadata": {
      "byteLimit": 2048000,
      "rowLimit": 10000
     },
     "inputWidgets": {},
     "nuid": "ac1d583c-0561-4249-b418-b3ef8c4bc287",
     "showTitle": false,
     "tableResultSettingsMap": {},
     "title": ""
    }
   },
   "outputs": [],
   "source": [
    "# Old records\n",
    "df_old = df_join.filter(col(f'{surrogate_key}').isNotNull())\n",
    "\n",
    "# New records\n",
    "df_new = df_join.filter(col(f'{surrogate_key}').isNull())\n"
   ]
  },
  {
   "cell_type": "code",
   "execution_count": 0,
   "metadata": {
    "application/vnd.databricks.v1+cell": {
     "cellMetadata": {
      "byteLimit": 2048000,
      "rowLimit": 10000
     },
     "inputWidgets": {},
     "nuid": "97c35344-7b3e-4608-8f53-f9e74ce1ea25",
     "showTitle": false,
     "tableResultSettingsMap": {
      "0": {
       "dataGridStateBlob": "{\"version\":1,\"tableState\":{\"columnPinning\":{\"left\":[\"#row_number#\"],\"right\":[]},\"columnSizing\":{},\"columnVisibility\":{}},\"settings\":{\"columns\":{}},\"syncTimestamp\":1755256652853}",
       "filterBlob": null,
       "queryPlanFiltersBlob": null,
       "tableResultIndex": 0
      }
     },
     "title": ""
    }
   },
   "outputs": [],
   "source": [
    "df_old.display()\n"
   ]
  },
  {
   "cell_type": "markdown",
   "metadata": {
    "application/vnd.databricks.v1+cell": {
     "cellMetadata": {
      "byteLimit": 2048000,
      "rowLimit": 10000
     },
     "inputWidgets": {},
     "nuid": "26267c49-4547-4fa0-9b1a-296018213d22",
     "showTitle": false,
     "tableResultSettingsMap": {},
     "title": ""
    }
   },
   "source": [
    "## **Enriching Dataframes**"
   ]
  },
  {
   "cell_type": "markdown",
   "metadata": {
    "application/vnd.databricks.v1+cell": {
     "cellMetadata": {
      "byteLimit": 2048000,
      "rowLimit": 10000
     },
     "inputWidgets": {},
     "nuid": "575dcc20-efea-46db-9733-0ab603aa24e6",
     "showTitle": false,
     "tableResultSettingsMap": {},
     "title": ""
    }
   },
   "source": [
    "#### **Preparing df_old**"
   ]
  },
  {
   "cell_type": "code",
   "execution_count": 0,
   "metadata": {
    "application/vnd.databricks.v1+cell": {
     "cellMetadata": {
      "byteLimit": 2048000,
      "rowLimit": 10000
     },
     "inputWidgets": {},
     "nuid": "de6d661b-ff3c-4b03-9c7a-2371c16fd74b",
     "showTitle": false,
     "tableResultSettingsMap": {},
     "title": ""
    }
   },
   "outputs": [],
   "source": [
    "df_old_enriched = df_old.withColumn('update_date', lit(current_timestamp()))\n"
   ]
  },
  {
   "cell_type": "code",
   "execution_count": 0,
   "metadata": {
    "application/vnd.databricks.v1+cell": {
     "cellMetadata": {
      "byteLimit": 2048000,
      "rowLimit": 10000
     },
     "inputWidgets": {},
     "nuid": "ec58e18c-11b5-4510-99aa-e869066f8b85",
     "showTitle": false,
     "tableResultSettingsMap": {
      "0": {
       "dataGridStateBlob": "{\"version\":1,\"tableState\":{\"columnPinning\":{\"left\":[\"#row_number#\"],\"right\":[]},\"columnSizing\":{},\"columnVisibility\":{}},\"settings\":{\"columns\":{}},\"syncTimestamp\":1755256653555}",
       "filterBlob": null,
       "queryPlanFiltersBlob": null,
       "tableResultIndex": 0
      }
     },
     "title": ""
    }
   },
   "outputs": [],
   "source": [
    "df_old_enriched.display()"
   ]
  },
  {
   "cell_type": "markdown",
   "metadata": {
    "application/vnd.databricks.v1+cell": {
     "cellMetadata": {
      "byteLimit": 2048000,
      "rowLimit": 10000
     },
     "inputWidgets": {},
     "nuid": "53df177d-5379-4b26-b421-06fe5d6bbf13",
     "showTitle": false,
     "tableResultSettingsMap": {},
     "title": ""
    }
   },
   "source": [
    "#### **Preparing df_new**\n"
   ]
  },
  {
   "cell_type": "code",
   "execution_count": 0,
   "metadata": {
    "application/vnd.databricks.v1+cell": {
     "cellMetadata": {
      "byteLimit": 2048000,
      "rowLimit": 10000
     },
     "inputWidgets": {},
     "nuid": "8b367bbf-1813-45b8-af3e-014eb007e479",
     "showTitle": false,
     "tableResultSettingsMap": {},
     "title": ""
    }
   },
   "outputs": [],
   "source": [
    "df_new.display()"
   ]
  },
  {
   "cell_type": "code",
   "execution_count": 0,
   "metadata": {
    "application/vnd.databricks.v1+cell": {
     "cellMetadata": {
      "byteLimit": 2048000,
      "rowLimit": 10000
     },
     "inputWidgets": {},
     "nuid": "99f8eb65-8d0f-4ec9-88ff-a67e934ac0d2",
     "showTitle": false,
     "tableResultSettingsMap": {},
     "title": ""
    }
   },
   "outputs": [],
   "source": [
    "if spark.catalog.tableExists(f\"{catalog}.{target_schema}.{target_object}\"):\n",
    "    max_surrogate_key = spark.sql(f\"select max({surrogate_key}) from {catalog}.{target_schema}.{target_object}\").collect()[0][0]\n",
    "    df_new_enriched = df_new.withColumn(f'{surrogate_key}', lit(max_surrogate_key) + lit(1) + monotonically_increasing_id())\\\n",
    "                    .withColumn('create_date', current_timestamp())\\\n",
    "                    .withColumn('update_date', current_timestamp())  \n",
    "else:\n",
    "    max_surrogate_key = 0\n",
    "    df_new_enriched = df_new.withColumn(f'{surrogate_key}', lit(max_surrogate_key) + lit(1) + monotonically_increasing_id())\\\n",
    "                    .withColumn('create_date', current_timestamp())\\\n",
    "                    .withColumn('update_date', current_timestamp())    "
   ]
  },
  {
   "cell_type": "code",
   "execution_count": 0,
   "metadata": {
    "application/vnd.databricks.v1+cell": {
     "cellMetadata": {
      "byteLimit": 2048000,
      "rowLimit": 10000
     },
     "inputWidgets": {},
     "nuid": "483168cf-371e-488d-a5b2-cc56fb0eaf08",
     "showTitle": false,
     "tableResultSettingsMap": {},
     "title": ""
    }
   },
   "outputs": [],
   "source": [
    "max_surrogate_key"
   ]
  },
  {
   "cell_type": "code",
   "execution_count": 0,
   "metadata": {
    "application/vnd.databricks.v1+cell": {
     "cellMetadata": {
      "byteLimit": 2048000,
      "rowLimit": 10000
     },
     "inputWidgets": {},
     "nuid": "625222aa-584b-4e42-be3a-b849396f3ecf",
     "showTitle": false,
     "tableResultSettingsMap": {},
     "title": ""
    }
   },
   "outputs": [],
   "source": [
    "df_new_enriched.display()"
   ]
  },
  {
   "cell_type": "markdown",
   "metadata": {
    "application/vnd.databricks.v1+cell": {
     "cellMetadata": {
      "byteLimit": 2048000,
      "rowLimit": 10000
     },
     "inputWidgets": {},
     "nuid": "3b7eb312-6f78-45af-82fe-b5eb1ee00c82",
     "showTitle": false,
     "tableResultSettingsMap": {},
     "title": ""
    }
   },
   "source": [
    "#### **Unioning OLD and NEW records**"
   ]
  },
  {
   "cell_type": "code",
   "execution_count": 0,
   "metadata": {
    "application/vnd.databricks.v1+cell": {
     "cellMetadata": {
      "byteLimit": 2048000,
      "rowLimit": 10000
     },
     "inputWidgets": {},
     "nuid": "1bdb3b0b-fd16-4f20-b08a-20a7b0bd9744",
     "showTitle": false,
     "tableResultSettingsMap": {},
     "title": ""
    }
   },
   "outputs": [],
   "source": [
    "df_union = df_old_enriched.unionByName(df_new_enriched)\n"
   ]
  },
  {
   "cell_type": "code",
   "execution_count": 0,
   "metadata": {
    "application/vnd.databricks.v1+cell": {
     "cellMetadata": {
      "byteLimit": 2048000,
      "rowLimit": 10000
     },
     "inputWidgets": {},
     "nuid": "635d9d0d-3840-4f56-b2a3-408952ecc709",
     "showTitle": false,
     "tableResultSettingsMap": {},
     "title": ""
    }
   },
   "outputs": [],
   "source": [
    "df_union.display()"
   ]
  },
  {
   "cell_type": "markdown",
   "metadata": {
    "application/vnd.databricks.v1+cell": {
     "cellMetadata": {
      "byteLimit": 2048000,
      "rowLimit": 10000
     },
     "inputWidgets": {},
     "nuid": "0f67b9f7-056b-4b53-9e60-1f4921c14cde",
     "showTitle": false,
     "tableResultSettingsMap": {},
     "title": ""
    }
   },
   "source": [
    "## **UPSERT**"
   ]
  },
  {
   "cell_type": "code",
   "execution_count": 0,
   "metadata": {
    "application/vnd.databricks.v1+cell": {
     "cellMetadata": {
      "byteLimit": 2048000,
      "rowLimit": 10000
     },
     "inputWidgets": {},
     "nuid": "8faecea1-dbe8-42bd-9410-61c52f4653fa",
     "showTitle": false,
     "tableResultSettingsMap": {},
     "title": ""
    }
   },
   "outputs": [],
   "source": [
    "from delta.tables import DeltaTable"
   ]
  },
  {
   "cell_type": "code",
   "execution_count": 0,
   "metadata": {
    "application/vnd.databricks.v1+cell": {
     "cellMetadata": {
      "byteLimit": 2048000,
      "rowLimit": 10000
     },
     "inputWidgets": {},
     "nuid": "5af51eed-3124-426e-b5a5-4867c004879a",
     "showTitle": false,
     "tableResultSettingsMap": {},
     "title": ""
    }
   },
   "outputs": [],
   "source": [
    "if spark.catalog.tableExists(f\"{catalog}.{target_schema}.{target_object}\"):\n",
    "    dlt_obj = DeltaTable.forName(spark, f\"{catalog}.{target_schema}.{target_object}\")\n",
    "    dlt_obj.alias(\"tgt\").merge(\n",
    "        df_union.alias(\"src\"),\n",
    "        f\"tgt.{surrogate_key} = src.{surrogate_key}\")\\\n",
    "        .whenMatchedUpdateAll(condition = f\"src.{cdc_col} >= tgt.{cdc_col}\")\\\n",
    "        .whenNotMatchedInsertAll()\\\n",
    "        .execute()\n",
    "else:\n",
    "    df_union.write.format(\"delta\")\\\n",
    "        .mode(\"append\")\\\n",
    "        .saveAsTable(f\"{catalog}.{target_schema}.{target_object}\")"
   ]
  },
  {
   "cell_type": "code",
   "execution_count": 0,
   "metadata": {
    "application/vnd.databricks.v1+cell": {
     "cellMetadata": {
      "byteLimit": 2048000,
      "implicitDf": true,
      "rowLimit": 10000
     },
     "inputWidgets": {},
     "nuid": "475c4004-d512-4932-9e83-a95c04f30c9a",
     "showTitle": false,
     "tableResultSettingsMap": {
      "0": {
       "dataGridStateBlob": "{\"version\":1,\"tableState\":{\"columnPinning\":{\"left\":[\"#row_number#\"],\"right\":[]},\"columnSizing\":{\"name\":134},\"columnVisibility\":{}},\"settings\":{\"columns\":{}},\"syncTimestamp\":1755257092170}",
       "filterBlob": null,
       "queryPlanFiltersBlob": null,
       "tableResultIndex": 0
      }
     },
     "title": ""
    }
   },
   "outputs": [],
   "source": [
    "%sql\n",
    "select * from gold.dimpassengers where passenger_id = 'P0049'"
   ]
  },
  {
   "cell_type": "code",
   "execution_count": 0,
   "metadata": {
    "application/vnd.databricks.v1+cell": {
     "cellMetadata": {
      "byteLimit": 2048000,
      "rowLimit": 10000
     },
     "inputWidgets": {},
     "nuid": "d837b22d-9dee-49c1-a9fd-d63805e3174a",
     "showTitle": false,
     "tableResultSettingsMap": {},
     "title": ""
    }
   },
   "outputs": [],
   "source": []
  }
 ],
 "metadata": {
  "application/vnd.databricks.v1+notebook": {
   "computePreferences": {
    "hardware": {
     "accelerator": null,
     "gpuPoolId": null,
     "memory": null
    }
   },
   "dashboards": [],
   "environmentMetadata": {
    "base_environment": "",
    "environment_version": "3"
   },
   "inputWidgetPreferences": null,
   "language": "python",
   "notebookMetadata": {
    "mostRecentlyExecutedCommandWithImplicitDF": {
     "commandId": 5408842106987008,
     "dataframes": [
      "_sqldf"
     ]
    },
    "pythonIndentUnit": 4
   },
   "notebookName": "GOLD_DIMS",
   "widgets": {
    "backdated_refresh": {
     "currentValue": "",
     "nuid": "8190cb2c-4ccb-4e87-a2f0-2d85cfd1f9f0",
     "typedWidgetInfo": {
      "autoCreated": false,
      "defaultValue": "",
      "label": null,
      "name": "backdated_refresh",
      "options": {
       "widgetDisplayType": "Text",
       "validationRegex": null
      },
      "parameterDataType": "String"
     },
     "widgetInfo": {
      "widgetType": "text",
      "defaultValue": "",
      "label": null,
      "name": "backdated_refresh",
      "options": {
       "widgetType": "text",
       "autoCreated": null,
       "validationRegex": null
      }
     }
    },
    "cdccol": {
     "currentValue": "modifiedDate",
     "nuid": "42e6e509-339b-417d-944b-2c253f832065",
     "typedWidgetInfo": {
      "autoCreated": false,
      "defaultValue": "",
      "label": null,
      "name": "cdccol",
      "options": {
       "widgetDisplayType": "Text",
       "validationRegex": null
      },
      "parameterDataType": "String"
     },
     "widgetInfo": {
      "widgetType": "text",
      "defaultValue": "",
      "label": null,
      "name": "cdccol",
      "options": {
       "widgetType": "text",
       "autoCreated": null,
       "validationRegex": null
      }
     }
    },
    "keycols": {
     "currentValue": "[\"flight_id\"]",
     "nuid": "544e3888-e837-46f0-a80e-74d9276bfe30",
     "typedWidgetInfo": {
      "autoCreated": false,
      "defaultValue": "",
      "label": null,
      "name": "keycols",
      "options": {
       "widgetDisplayType": "Text",
       "validationRegex": null
      },
      "parameterDataType": "String"
     },
     "widgetInfo": {
      "widgetType": "text",
      "defaultValue": "",
      "label": null,
      "name": "keycols",
      "options": {
       "widgetType": "text",
       "autoCreated": null,
       "validationRegex": null
      }
     }
    },
    "source_object": {
     "currentValue": "silver_flights",
     "nuid": "c689254b-66fc-4ad3-9478-f924cab8615c",
     "typedWidgetInfo": {
      "autoCreated": false,
      "defaultValue": "",
      "label": null,
      "name": "source_object",
      "options": {
       "widgetDisplayType": "Text",
       "validationRegex": null
      },
      "parameterDataType": "String"
     },
     "widgetInfo": {
      "widgetType": "text",
      "defaultValue": "",
      "label": null,
      "name": "source_object",
      "options": {
       "widgetType": "text",
       "autoCreated": null,
       "validationRegex": null
      }
     }
    },
    "source_schema": {
     "currentValue": "silver",
     "nuid": "a21db248-bca6-487e-a0a8-4c077895b50b",
     "typedWidgetInfo": {
      "autoCreated": false,
      "defaultValue": "",
      "label": null,
      "name": "source_schema",
      "options": {
       "widgetDisplayType": "Text",
       "validationRegex": null
      },
      "parameterDataType": "String"
     },
     "widgetInfo": {
      "widgetType": "text",
      "defaultValue": "",
      "label": null,
      "name": "source_schema",
      "options": {
       "widgetType": "text",
       "autoCreated": null,
       "validationRegex": null
      }
     }
    }
   }
  },
  "language_info": {
   "name": "python"
  }
 },
 "nbformat": 4,
 "nbformat_minor": 0
}
